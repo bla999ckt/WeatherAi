{
  "nbformat": 4,
  "nbformat_minor": 0,
  "metadata": {
    "colab": {
      "provenance": []
    },
    "kernelspec": {
      "name": "python3",
      "display_name": "Python 3"
    },
    "language_info": {
      "name": "python"
    }
  },
  "cells": [
    {
      "cell_type": "markdown",
      "source": [
        "# Weather AI Model"
      ],
      "metadata": {
        "id": "8o34G3ZwqDKW"
      }
    },
    {
      "cell_type": "markdown",
      "source": [
        "**Importing Libraries:**"
      ],
      "metadata": {
        "id": "OScOmJnJQ_n_"
      }
    },
    {
      "cell_type": "code",
      "execution_count": 1,
      "metadata": {
        "id": "jhB04cSgQ2UJ"
      },
      "outputs": [],
      "source": [
        "import requests\n",
        "import pandas as pd\n",
        "import numpy as np\n",
        "from sklearn.model_selection import train_test_split\n",
        "from sklearn.preprocessing import LabelEncoder\n",
        "from sklearn.ensemble import RandomForestClassifier, RandomForestRegressor\n",
        "from sklearn.metrics import mean_squared_error\n",
        "from datetime import datetime, timedelta\n",
        "import pytz"
      ]
    },
    {
      "cell_type": "code",
      "source": [
        "API_KEY = '0fcf800b3c02d66198fed2754bd6afbe'\n",
        "BASE_URL = 'https://api.openweathermap.org/data/2.5/'"
      ],
      "metadata": {
        "id": "xd-jHdEjSaEU"
      },
      "execution_count": 2,
      "outputs": []
    },
    {
      "cell_type": "markdown",
      "source": [
        "**fetch current weather data**"
      ],
      "metadata": {
        "id": "YGXMzPcFS1YG"
      }
    },
    {
      "cell_type": "code",
      "source": [
        "def get_current_weather(city):\n",
        "  url = f\"{BASE_URL}weather?q={city}&appid={API_KEY}&units=metric\"\n",
        "  response = requests.get(url)\n",
        "  data = response.json()\n",
        "  return {\n",
        "      'city': data['name'],\n",
        "      'current_temp': round(data['main']['temp']),\n",
        "      'feels_like': round(data['main']['feels_like']),\n",
        "      'temp_min': round(data['main']['temp_min']),\n",
        "      'temp_max': round(data['main']['temp_max']),\n",
        "      'humidity': round(data['main']['humidity']),\n",
        "      'description': data['weather'][0]['description'],\n",
        "      'country': data['sys']['country'],\n",
        "      'wind_gust_dir': data['wind']['deg'],\n",
        "      'pressure': data['main']['pressure'],\n",
        "      'wind_gust_speed': data['wind']['speed']\n",
        "  }"
      ],
      "metadata": {
        "id": "IIhihgwoSzoo"
      },
      "execution_count": 3,
      "outputs": []
    },
    {
      "cell_type": "markdown",
      "source": [
        "**Read historical data**"
      ],
      "metadata": {
        "id": "rQSsebEcUv-X"
      }
    },
    {
      "cell_type": "code",
      "source": [
        "def read_historical_data(filename):\n",
        "  df = pd.read_csv(filename)\n",
        "  df = df.dropna()\n",
        "  df = df.drop_duplicates()\n",
        "  return df"
      ],
      "metadata": {
        "id": "voL3voKyUvql"
      },
      "execution_count": 11,
      "outputs": []
    },
    {
      "cell_type": "markdown",
      "source": [
        "**Prepare data for training**"
      ],
      "metadata": {
        "id": "NHJs0AXVVHfM"
      }
    },
    {
      "cell_type": "code",
      "source": [
        "def prepare_data(data):\n",
        "  le = LabelEncoder()\n",
        "  data['WindGustDir'] = le.fit_transform(data['WindGustDir'])\n",
        "  data['RainTomorrow'] = le.fit_transform(data['RainTomorrow'])\n",
        "\n",
        "  X = data[['MinTemp', 'MaxTemp', 'WindGustDir', 'WindGustSpeed', 'Humidity', 'Pressure', 'Temp']] # feature variables\n",
        "  Y = data['RainTomorrow'] # target variable\n",
        "\n",
        "  return X, Y, le"
      ],
      "metadata": {
        "id": "BCOFuYkzVLN2"
      },
      "execution_count": 15,
      "outputs": []
    },
    {
      "cell_type": "markdown",
      "source": [
        "**Train Rain Prediction Model**"
      ],
      "metadata": {
        "id": "4i0uC0TQWh6D"
      }
    },
    {
      "cell_type": "code",
      "source": [
        "def train_rain_model(X, Y):\n",
        "  x_train, x_test, y_train, y_test = train_test_split(X, Y, test_size=0.2, random_state=42)\n",
        "  model = RandomForestClassifier(n_estimators=100, random_state=42)\n",
        "  model.fit(x_train, y_train) # train\n",
        "\n",
        "  y_pred = model.predict(x_test)\n",
        "\n",
        "  # test\n",
        "  print(\"Mean Squared Error for Rain Model\")\n",
        "  print(mean_squared_error(y_test, y_pred))\n",
        "\n",
        "  return model\n"
      ],
      "metadata": {
        "id": "fkM4yX1pWhpH"
      },
      "execution_count": 17,
      "outputs": []
    },
    {
      "cell_type": "markdown",
      "source": [
        "**Prepare regression data**"
      ],
      "metadata": {
        "id": "vYPFSgo7YIU_"
      }
    },
    {
      "cell_type": "code",
      "source": [
        "def prepare_regression_data(data, feature):\n",
        "  X, Y = [], []\n",
        "\n",
        "  for i in range(len(data) - 1):\n",
        "    X.append(data[feature].iloc[i])\n",
        "    Y.append(data[feature].iloc[i+1])\n",
        "\n",
        "  X = np.array(X).reshape(-1, 1)\n",
        "  Y = np.array(Y)\n",
        "  return X, Y"
      ],
      "metadata": {
        "id": "B1-6aMIrYGZH"
      },
      "execution_count": 21,
      "outputs": []
    },
    {
      "cell_type": "markdown",
      "source": [
        "**Train regression Model**"
      ],
      "metadata": {
        "id": "zHlO9yYyYFAU"
      }
    },
    {
      "cell_type": "code",
      "source": [
        "def train_regression_model(X, Y):\n",
        "  model = RandomForestRegressor(n_estimators=100, random_state=42)\n",
        "  model.fit(X, Y)\n",
        "  return model"
      ],
      "metadata": {
        "id": "u1VcetVHazSj"
      },
      "execution_count": 8,
      "outputs": []
    },
    {
      "cell_type": "markdown",
      "source": [
        "**Predict**"
      ],
      "metadata": {
        "id": "zZ0VE-vDbILH"
      }
    },
    {
      "cell_type": "code",
      "source": [
        "def predict_future(model, current_value):\n",
        "  predictions = [current_value]\n",
        "\n",
        "  for i in range(5):\n",
        "    next_value = model.predict(np.array([[predictions[-1]]]))\n",
        "    predictions.append(next_value[0])\n",
        "\n",
        "  return predictions[1:]"
      ],
      "metadata": {
        "id": "V_q8IFg9bLUN"
      },
      "execution_count": 9,
      "outputs": []
    },
    {
      "cell_type": "markdown",
      "source": [
        "**Weather Analysis Function**"
      ],
      "metadata": {
        "id": "p2YcuOWCbqfR"
      }
    },
    {
      "cell_type": "code",
      "source": [
        "def weather_view():\n",
        "  city = input('Enter any city name: ')\n",
        "  current_weather = get_current_weather(city)\n",
        "\n",
        "  historical_data = read_historical_data('/content/weather.csv')\n",
        "\n",
        "  x, y, le = prepare_data(historical_data)\n",
        "  rain_model = train_rain_model(x, y)\n",
        "\n",
        "  wind_deg = current_weather['wind_gust_dir'] %360\n",
        "  compass_points = [\n",
        "      (\"N\", 0, 11.25), (\"NNE\", 11.25, 33.75), (\"NE\", 33.75, 56.25),\n",
        "      (\"ENE\", 56.25, 78.75), (\"E\", 78.75, 101.25), (\"ESE\", 101.25, 123.75),\n",
        "      (\"SE\", 123.75, 146.25), (\"SSE\", 146.25, 168.75), (\"S\", 168.75, 191.25),\n",
        "      (\"SSW\", 191.25, 213.75), (\"SW\", 213.75, 236.25), (\"WSW\", 236.25, 258.75),\n",
        "      (\"W\", 258.75, 281.25), (\"WNW\", 281.25, 303.75), (\"NW\", 303.75, 326.25),\n",
        "      (\"NNW\", 326.25, 348.75)\n",
        "    ]\n",
        "  compass_direction = next(point for point, start, end in compass_points if start <= wind_deg < end)\n",
        "  compass_direction_encoded = le.transform([compass_direction])[0] if compass_direction in le.classes_ else -1\n",
        "\n",
        "  current_data = {\n",
        "      'MinTemp': current_weather['temp_min'],\n",
        "      'MaxTemp': current_weather['temp_max'],\n",
        "      'WindGustDir':compass_direction_encoded,\n",
        "      'WindGustSpeed': current_weather['wind_gust_speed'],\n",
        "      'Humidity': current_weather['humidity'],\n",
        "      'Pressure': current_weather['pressure'],\n",
        "      'Temp': current_weather['current_temp'],\n",
        "  }\n",
        "  current_df = pd.DataFrame([current_data])\n",
        "\n",
        "  rain_prediction = rain_model.predict(current_df)[0] # rain prediction\n",
        "\n",
        "  x_temp, y_temp = prepare_regression_data(historical_data, 'Temp')\n",
        "  x_hum, y_hum = prepare_regression_data(historical_data, 'Humidity')\n",
        "\n",
        "  temp_model = train_regression_model(x_temp, y_temp)\n",
        "  hum_model = train_regression_model(x_hum, y_hum)\n",
        "\n",
        "  future_temp = predict_future(temp_model, current_weather['temp_min'])\n",
        "  future_humidity =  predict_future(hum_model, current_weather['humidity'])\n",
        "\n",
        "  timezone = pytz.timezone('Asia/Karachi')\n",
        "  now = datetime.now(timezone)\n",
        "  next_hour = now + timedelta(hours=1)\n",
        "  next_hour = next_hour.replace(minute=0, second=0, microsecond=0)\n",
        "\n",
        "  future_times = [(next_hour + timedelta(hours=i)).strftime(\"%H:00\") for i in range(5)]\n",
        "\n",
        "  # Display results\n",
        "  print(f\"City: {city}, {current_weather['country']}\")\n",
        "  print(f\"Current Temprature: {current_weather['current_temp']}\")\n",
        "  print(f\"Feels Like: {current_weather['feels_like']}\")\n",
        "  print(f\"Minimum Temprature: {current_weather['temp_min']}˚C\")\n",
        "  print(f\"Maximum Temprature: {current_weather['feels_like']}˚C\")\n",
        "  print(f\"Humidity: {current_weather['humidity']}%\")\n",
        "  print(f\"Weather Prediction: {current_weather['description']}\")\n",
        "  print(f\"Rain Prediction: {'Yes' if rain_prediction else 'No'}\")\n",
        "\n",
        "  print(\"\\nFuture Temprature Prediction:\")\n",
        "  for time, temp in zip(future_times, future_temp):\n",
        "    print(f\"{time}: {round(temp, 1)}˚C\")\n",
        "\n",
        "  print(\"\\nFuture Humidity Prediction:\")\n",
        "  for time, humidity in zip(future_times, future_humidity):\n",
        "    print(f\"{time}: {round(humidity, 1)}%\")\n",
        "\n",
        "weather_view()"
      ],
      "metadata": {
        "colab": {
          "base_uri": "https://localhost:8080/"
        },
        "id": "837Uwt3obwVI",
        "outputId": "283706c1-1102-4277-d671-d4180276b36e"
      },
      "execution_count": 26,
      "outputs": [
        {
          "output_type": "stream",
          "name": "stdout",
          "text": [
            "Enter any city name: xian\n",
            "Mean Squared Error for Rain Model\n",
            "0.1506849315068493\n",
            "City: xian, CN\n",
            "Current Temprature: 1\n",
            "Feels Like: -2\n",
            "Minimum Temprature: 1˚C\n",
            "Maximum Temprature: -2˚C\n",
            "Humidity: 77%\n",
            "Weather Prediction: overcast clouds\n",
            "Rain Prediction: No\n",
            "\n",
            "Future Temprature Prediction:\n",
            "21:00: 8.9˚C\n",
            "22:00: 11.2˚C\n",
            "23:00: 11.7˚C\n",
            "00:00: 11.6˚C\n",
            "01:00: 11.7˚C\n",
            "\n",
            "Future Humidity Prediction:\n",
            "21:00: 61.9%\n",
            "22:00: 56.5%\n",
            "23:00: 40.7%\n",
            "00:00: 52.9%\n",
            "01:00: 51.0%\n"
          ]
        }
      ]
    }
  ]
}